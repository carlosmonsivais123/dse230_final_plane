{
 "cells": [
  {
   "cell_type": "markdown",
   "metadata": {},
   "source": [
    "# Run Process in GCP"
   ]
  },
  {
   "cell_type": "markdown",
   "metadata": {},
   "source": [
    "#### In order to run this process end to end we have to run it in GCP using DataProc to spin up clusters and run our PySpark code there."
   ]
  },
  {
   "cell_type": "markdown",
   "metadata": {},
   "source": [
    "### To run the process, just run the cell below which will run the main.py file kicking off the other Python files that have dependencies on this file.\n",
    "### The logs of the process will be shown below. More information on the files can be read in the README.md file."
   ]
  },
  {
   "cell_type": "code",
   "execution_count": 2,
   "metadata": {},
   "outputs": [],
   "source": [
    "%run main.py"
   ]
  }
 ],
 "metadata": {
  "interpreter": {
   "hash": "948b3ef3c7f3779da0fb6aa870fa66a0cb8fafc1112b0f4c52e6a358a38e2d8d"
  },
  "kernelspec": {
   "display_name": "Python 3.8.8 64-bit ('pyspark_230_env')",
   "name": "python3"
  },
  "language_info": {
   "codemirror_mode": {
    "name": "ipython",
    "version": 3
   },
   "file_extension": ".py",
   "mimetype": "text/x-python",
   "name": "python",
   "nbconvert_exporter": "python",
   "pygments_lexer": "ipython3",
   "version": "3.8.8"
  },
  "orig_nbformat": 4
 },
 "nbformat": 4,
 "nbformat_minor": 2
}