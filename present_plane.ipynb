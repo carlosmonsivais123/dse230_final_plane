{
 "cells": [
  {
   "cell_type": "markdown",
   "metadata": {},
   "source": [
    "# Libraries"
   ]
  },
  {
   "cell_type": "code",
   "execution_count": 1,
   "metadata": {},
   "outputs": [],
   "source": [
    "import pyspark\n",
    "from pyspark.sql import SparkSession\n",
    "from pyspark.sql.types import StructType, StructField, IntegerType, StringType\n",
    "\n",
    "from IPython.display import Image"
   ]
  },
  {
   "cell_type": "markdown",
   "metadata": {},
   "source": [
    "# Creating Spark Instance"
   ]
  },
  {
   "cell_type": "code",
   "execution_count": 2,
   "metadata": {},
   "outputs": [],
   "source": [
    "conf = pyspark.SparkConf().setAll([\n",
    "        ('spark.master',   'local[*]'),\n",
    "        ('spark.app.name', 'PySpark Demo')])\n",
    "\n",
    "# Schema for original data set\n",
    "schema = StructType([StructField(\"YEAR\", StringType(), False),\n",
    "                        StructField(\"MONTH\", StringType(), False),\n",
    "                        StructField(\"DAY\", StringType(), False),\n",
    "                        StructField(\"DAY_OF_WEEK\", StringType(), False),\n",
    "                        StructField(\"AIRLINE\", StringType(), False),\n",
    "                        StructField(\"FLIGHT_NUMBER\", StringType(), True),\n",
    "                        StructField(\"TAIL_NUMBER\", StringType(), True),\n",
    "                        StructField(\"ORIGIN_AIRPORT\", StringType(), False),\n",
    "                        StructField(\"DESTINATION_AIRPORT\", StringType(), False),\n",
    "                        StructField(\"SCHEDULED_DEPARTURE\", IntegerType(), False),\n",
    "                        StructField(\"DEPARTURE_TIME\", IntegerType(), True),\n",
    "                        StructField(\"DEPARTURE_DELAY\", IntegerType(), True),\n",
    "                        StructField(\"TAXI_OUT\", IntegerType(), True),\n",
    "                        StructField(\"WHEELS_OFF\", IntegerType(), True),\n",
    "                        StructField(\"SCHEDULED_TIME\", IntegerType(), True),\n",
    "                        StructField(\"ELAPSED_TIME\", IntegerType(), True),\n",
    "                        StructField(\"AIR_TIME\", IntegerType(), True),\n",
    "                        StructField(\"DISTANCE\", IntegerType(), True),\n",
    "                        StructField(\"WHEELS_ON\", IntegerType(), True),\n",
    "                        StructField(\"TAXI_IN\", IntegerType(), True),\n",
    "                        StructField(\"SCHEDULED_ARRIVAL\", IntegerType(), True),\n",
    "                        StructField(\"ARRIVAL_TIME\", IntegerType(), True),\n",
    "                        StructField(\"ARRIVAL_DELAY\", IntegerType(), True),\n",
    "                        StructField(\"DIVERTED\", StringType(), True),\n",
    "                        StructField(\"CANCELLED\", StringType(), True),\n",
    "                        StructField(\"CANCELLATION_REASON\", StringType(), True),\n",
    "                        StructField(\"AIR_SYSTEM_DELAY\", IntegerType(), True),\n",
    "                        StructField(\"SECURITY_DELAY\", IntegerType(), True),\n",
    "                        StructField(\"AIRLINE_DELAY\", IntegerType(), True),\n",
    "                        StructField(\"LATE_AIRCRAFT_DELAY\", IntegerType(), True),\n",
    "                        StructField(\"WEATHER_DELAY\", StringType(), True),\n",
    "                    ])"
   ]
  },
  {
   "cell_type": "markdown",
   "metadata": {},
   "source": [
    "# Importing Data"
   ]
  },
  {
   "cell_type": "code",
   "execution_count": 3,
   "metadata": {},
   "outputs": [
    {
     "name": "stderr",
     "output_type": "stream",
     "text": [
      "22/04/28 01:30:31 WARN Utils: Your hostname, Carloss-MacBook-Air.local resolves to a loopback address: 127.0.0.1; using 192.168.0.225 instead (on interface en0)\n",
      "22/04/28 01:30:31 WARN Utils: Set SPARK_LOCAL_IP if you need to bind to another address\n",
      "WARNING: An illegal reflective access operation has occurred\n",
      "WARNING: Illegal reflective access by org.apache.spark.unsafe.Platform (file:/Users/CarlosMonsivais/Desktop/dse230_plane/dse_230_env/lib/python3.8/site-packages/pyspark/jars/spark-unsafe_2.12-3.2.1.jar) to constructor java.nio.DirectByteBuffer(long,int)\n",
      "WARNING: Please consider reporting this to the maintainers of org.apache.spark.unsafe.Platform\n",
      "WARNING: Use --illegal-access=warn to enable warnings of further illegal reflective access operations\n",
      "WARNING: All illegal access operations will be denied in a future release\n",
      "Using Spark's default log4j profile: org/apache/spark/log4j-defaults.properties\n",
      "Setting default log level to \"WARN\".\n",
      "To adjust logging level use sc.setLogLevel(newLevel). For SparkR, use setLogLevel(newLevel).\n",
      "22/04/28 01:30:32 WARN NativeCodeLoader: Unable to load native-hadoop library for your platform... using builtin-java classes where applicable\n",
      "22/04/28 01:30:48 WARN package: Truncated the string representation of a plan since it was too large. This behavior can be adjusted by setting 'spark.sql.debug.maxToStringFields'.\n"
     ]
    }
   ],
   "source": [
    "# Creating Spark session\n",
    "spark = SparkSession.builder.config(conf=conf).getOrCreate()\n",
    "df = spark.read.csv(\"flight-delays/flights.csv\",\n",
    "                            header=True,\n",
    "                            schema = schema).cache()"
   ]
  },
  {
   "cell_type": "markdown",
   "metadata": {},
   "source": [
    "# Data Schema"
   ]
  },
  {
   "cell_type": "code",
   "execution_count": 4,
   "metadata": {},
   "outputs": [
    {
     "name": "stdout",
     "output_type": "stream",
     "text": [
      "root\n",
      " |-- YEAR: string (nullable = true)\n",
      " |-- MONTH: string (nullable = true)\n",
      " |-- DAY: string (nullable = true)\n",
      " |-- DAY_OF_WEEK: string (nullable = true)\n",
      " |-- AIRLINE: string (nullable = true)\n",
      " |-- FLIGHT_NUMBER: string (nullable = true)\n",
      " |-- TAIL_NUMBER: string (nullable = true)\n",
      " |-- ORIGIN_AIRPORT: string (nullable = true)\n",
      " |-- DESTINATION_AIRPORT: string (nullable = true)\n",
      " |-- SCHEDULED_DEPARTURE: integer (nullable = true)\n",
      " |-- DEPARTURE_TIME: integer (nullable = true)\n",
      " |-- DEPARTURE_DELAY: integer (nullable = true)\n",
      " |-- TAXI_OUT: integer (nullable = true)\n",
      " |-- WHEELS_OFF: integer (nullable = true)\n",
      " |-- SCHEDULED_TIME: integer (nullable = true)\n",
      " |-- ELAPSED_TIME: integer (nullable = true)\n",
      " |-- AIR_TIME: integer (nullable = true)\n",
      " |-- DISTANCE: integer (nullable = true)\n",
      " |-- WHEELS_ON: integer (nullable = true)\n",
      " |-- TAXI_IN: integer (nullable = true)\n",
      " |-- SCHEDULED_ARRIVAL: integer (nullable = true)\n",
      " |-- ARRIVAL_TIME: integer (nullable = true)\n",
      " |-- ARRIVAL_DELAY: integer (nullable = true)\n",
      " |-- DIVERTED: string (nullable = true)\n",
      " |-- CANCELLED: string (nullable = true)\n",
      " |-- CANCELLATION_REASON: string (nullable = true)\n",
      " |-- AIR_SYSTEM_DELAY: integer (nullable = true)\n",
      " |-- SECURITY_DELAY: integer (nullable = true)\n",
      " |-- AIRLINE_DELAY: integer (nullable = true)\n",
      " |-- LATE_AIRCRAFT_DELAY: integer (nullable = true)\n",
      " |-- WEATHER_DELAY: string (nullable = true)\n",
      "\n"
     ]
    }
   ],
   "source": [
    "df.printSchema()"
   ]
  },
  {
   "cell_type": "code",
   "execution_count": 5,
   "metadata": {},
   "outputs": [
    {
     "name": "stderr",
     "output_type": "stream",
     "text": []
    },
    {
     "name": "stdout",
     "output_type": "stream",
     "text": [
      "+----+-----+---+-----------+-------+-------------+-----------+--------------+-------------------+-------------------+--------------+---------------+--------+----------+--------------+------------+--------+--------+---------+-------+-----------------+------------+-------------+--------+---------+-------------------+----------------+--------------+-------------+-------------------+-------------+\n",
      "|YEAR|MONTH|DAY|DAY_OF_WEEK|AIRLINE|FLIGHT_NUMBER|TAIL_NUMBER|ORIGIN_AIRPORT|DESTINATION_AIRPORT|SCHEDULED_DEPARTURE|DEPARTURE_TIME|DEPARTURE_DELAY|TAXI_OUT|WHEELS_OFF|SCHEDULED_TIME|ELAPSED_TIME|AIR_TIME|DISTANCE|WHEELS_ON|TAXI_IN|SCHEDULED_ARRIVAL|ARRIVAL_TIME|ARRIVAL_DELAY|DIVERTED|CANCELLED|CANCELLATION_REASON|AIR_SYSTEM_DELAY|SECURITY_DELAY|AIRLINE_DELAY|LATE_AIRCRAFT_DELAY|WEATHER_DELAY|\n",
      "+----+-----+---+-----------+-------+-------------+-----------+--------------+-------------------+-------------------+--------------+---------------+--------+----------+--------------+------------+--------+--------+---------+-------+-----------------+------------+-------------+--------+---------+-------------------+----------------+--------------+-------------+-------------------+-------------+\n",
      "|2015|    1|  1|          4|     AS|           98|     N407AS|           ANC|                SEA|                  5|          2354|            -11|      21|        15|           205|         194|     169|    1448|      404|      4|              430|         408|          -22|       0|        0|               null|            null|          null|         null|               null|         null|\n",
      "|2015|    1|  1|          4|     AA|         2336|     N3KUAA|           LAX|                PBI|                 10|             2|             -8|      12|        14|           280|         279|     263|    2330|      737|      4|              750|         741|           -9|       0|        0|               null|            null|          null|         null|               null|         null|\n",
      "+----+-----+---+-----------+-------+-------------+-----------+--------------+-------------------+-------------------+--------------+---------------+--------+----------+--------------+------------+--------+--------+---------+-------+-----------------+------------+-------------+--------+---------+-------------------+----------------+--------------+-------------+-------------------+-------------+\n",
      "only showing top 2 rows\n",
      "\n"
     ]
    },
    {
     "name": "stderr",
     "output_type": "stream",
     "text": []
    }
   ],
   "source": [
    "df.show(2)"
   ]
  },
  {
   "cell_type": "code",
   "execution_count": 6,
   "metadata": {},
   "outputs": [
    {
     "name": "stderr",
     "output_type": "stream",
     "text": []
    },
    {
     "name": "stdout",
     "output_type": "stream",
     "text": [
      "+--------------+------+\n",
      "|ORIGIN_AIRPORT| count|\n",
      "+--------------+------+\n",
      "|           ATL|346836|\n",
      "|           ORD|285884|\n",
      "|           DFW|239551|\n",
      "|           DEN|196055|\n",
      "|           LAX|194673|\n",
      "+--------------+------+\n",
      "only showing top 5 rows\n",
      "\n"
     ]
    },
    {
     "name": "stderr",
     "output_type": "stream",
     "text": []
    },
    {
     "name": "stdout",
     "output_type": "stream",
     "text": [
      "+-------------------+------+\n",
      "|DESTINATION_AIRPORT| count|\n",
      "+-------------------+------+\n",
      "|                ATL|346904|\n",
      "|                ORD|285906|\n",
      "|                DFW|239582|\n",
      "|                DEN|196010|\n",
      "|                LAX|194696|\n",
      "+-------------------+------+\n",
      "only showing top 5 rows\n",
      "\n"
     ]
    },
    {
     "name": "stderr",
     "output_type": "stream",
     "text": []
    }
   ],
   "source": [
    "# Top 5 airports with planes outbound\n",
    "origin_airport_count = df.groupBy('ORIGIN_AIRPORT').count().orderBy('count', ascending=False)\n",
    "origin_airport_count.show(5)\n",
    "\n",
    "# Top 5 airports with planes inbound\n",
    "destination_airport_count = df.groupBy('DESTINATION_AIRPORT').count().orderBy('count', ascending=False)\n",
    "destination_airport_count.show(5)"
   ]
  },
  {
   "cell_type": "code",
   "execution_count": 25,
   "metadata": {},
   "outputs": [],
   "source": [
    "integer_cols = [f.name for f in df.schema.fields if isinstance(f.dataType, IntegerType)]\n",
    "integer_df = df[[integer_cols]]\n",
    "integer_df = integer_df.na.drop(\"any\")"
   ]
  },
  {
   "cell_type": "code",
   "execution_count": 31,
   "metadata": {},
   "outputs": [
    {
     "name": "stderr",
     "output_type": "stream",
     "text": [
      "/Users/CarlosMonsivais/Desktop/dse230_plane/dse_230_env/lib/python3.8/site-packages/pyspark/sql/context.py:125: FutureWarning: Deprecated in 3.0.0. Use SparkSession.builder.getOrCreate() instead.\n",
      "  warnings.warn(\n"
     ]
    }
   ],
   "source": [
    "from pyspark.ml.stat import Correlation\n",
    "from pyspark.ml.feature import VectorAssembler\n",
    "\n",
    "# convert to vector column first\n",
    "vector_col = \"corr_features\"\n",
    "assembler = VectorAssembler(inputCols=integer_df.columns, outputCol=vector_col)\n",
    "df_vector = assembler.transform(integer_df).select(vector_col)\n",
    "\n",
    "# get correlation matrix\n",
    "matrix = Correlation.corr(df_vector, vector_col)\n",
    "\n",
    "matrix_array = matrix.collect()[0][\"pearson({})\".format(vector_col)].values"
   ]
  },
  {
   "cell_type": "code",
   "execution_count": 40,
   "metadata": {},
   "outputs": [],
   "source": [
    "matrix_array = matrix_array.reshape((len(integer_cols), len(integer_cols)))"
   ]
  },
  {
   "cell_type": "code",
   "execution_count": 41,
   "metadata": {},
   "outputs": [
    {
     "data": {
      "text/plain": [
       "array([[ 1.        ,  0.83590518,  0.02931398, -0.08584207,  0.78452243,\n",
       "        -0.04419128, -0.07380523, -0.0524386 , -0.03648664,  0.29609068,\n",
       "        -0.06185223,  0.63430575,  0.25426917, -0.00647966, -0.0751742 ,\n",
       "        -0.00506822, -0.08909532,  0.14505405],\n",
       "       [ 0.83590518,  1.        ,  0.12176286, -0.09327552,  0.94301379,\n",
       "        -0.06994491, -0.10410551, -0.08247722, -0.07287232,  0.3900898 ,\n",
       "        -0.06265429,  0.64322313,  0.34550336,  0.0839027 , -0.04387779,\n",
       "        -0.00468196, -0.02413123,  0.18237357],\n",
       "       [ 0.02931398,  0.12176286,  1.        , -0.15011473,  0.0943566 ,\n",
       "         0.01143273, -0.06180305, -0.02453419,  0.00338238, -0.05046646,\n",
       "        -0.08312345,  0.02397447, -0.05802837,  0.95837847,  0.09591702,\n",
       "         0.01187733,  0.62129636,  0.55480239],\n",
       "       [-0.08584207, -0.09327552, -0.15011473,  1.        , -0.04814783,\n",
       "         0.07680452,  0.23738695,  0.05172574,  0.03266282, -0.0125746 ,\n",
       "        -0.02825875, -0.04488074, -0.01024421,  0.03893636,  0.36165934,\n",
       "        -0.00598755, -0.07028962, -0.12782413],\n",
       "       [ 0.78452243,  0.94301379,  0.0943566 , -0.04814783,  1.        ,\n",
       "        -0.0726872 , -0.09783546, -0.08553482, -0.07991957,  0.4329246 ,\n",
       "        -0.05766028,  0.64487333,  0.38792572,  0.06599342, -0.02637667,\n",
       "        -0.00617953, -0.03281041,  0.15608877],\n",
       "       [-0.04419128, -0.06994491,  0.01143273,  0.07680452, -0.0726872 ,\n",
       "         1.        ,  0.96876704,  0.98652656,  0.98368944, -0.03359668,\n",
       "         0.07496713, -0.00312917, -0.03913448,  0.00780984,  0.03044506,\n",
       "         0.00708542,  0.03305113, -0.04455382],\n",
       "       [-0.07380523, -0.10410551, -0.06180305,  0.23738695, -0.09783546,\n",
       "         0.96876704,  1.        ,  0.97553815,  0.95192633, -0.03376811,\n",
       "         0.17083077, -0.02101498, -0.03829856,  0.00538316,  0.15151   ,\n",
       "         0.00458776, -0.00161904, -0.0918224 ],\n",
       "       [-0.0524386 , -0.08247722, -0.02453419,  0.05172574, -0.08553482,\n",
       "         0.98652656,  0.97553815,  1.        ,  0.98001829, -0.03501466,\n",
       "         0.06329544, -0.01075058, -0.04008666, -0.00588595,  0.05649203,\n",
       "         0.00663131,  0.01836645, -0.06362438],\n",
       "       [-0.03648664, -0.07287232,  0.00338238,  0.03266282, -0.07991957,\n",
       "         0.98368944,  0.95192633,  0.98001829,  1.        , -0.04650799,\n",
       "         0.05620049, -0.01013093, -0.05288427, -0.00179692,  0.01503959,\n",
       "         0.00751306,  0.03219836, -0.04456893],\n",
       "       [ 0.29609068,  0.3900898 , -0.05046646, -0.0125746 ,  0.4329246 ,\n",
       "        -0.03359668, -0.03376811, -0.03501466, -0.04650799,  1.        ,\n",
       "         0.01895432,  0.58249273,  0.94208858, -0.05412921,  0.00679635,\n",
       "        -0.00772809, -0.06074735, -0.00473842],\n",
       "       [-0.06185223, -0.06265429, -0.08312345, -0.02825875, -0.05766028,\n",
       "         0.07496713,  0.17083077,  0.06329544,  0.05620049,  0.01895432,\n",
       "         1.        , -0.01848522,  0.01795886,  0.03100967,  0.24456495,\n",
       "        -0.00539203, -0.05009201, -0.05558234],\n",
       "       [ 0.63430575,  0.64322313,  0.02397447, -0.04488074,  0.64487333,\n",
       "        -0.00312917, -0.02101498, -0.01075058, -0.01013093,  0.58249273,\n",
       "        -0.01848522,  1.        ,  0.53425504,  0.00343458, -0.02876319,\n",
       "        -0.00339601, -0.07385205,  0.10943007],\n",
       "       [ 0.25426917,  0.34550336, -0.05802837, -0.01024421,  0.38792572,\n",
       "        -0.03913448, -0.03829856, -0.04008666, -0.05288427,  0.94208858,\n",
       "         0.01795886,  0.53425504,  1.        , -0.06101255,  0.00452302,\n",
       "        -0.00746152, -0.06169215, -0.01220922],\n",
       "       [-0.00647966,  0.0839027 ,  0.95837847,  0.03893636,  0.06599342,\n",
       "         0.00780984,  0.00538316, -0.00588595, -0.00179692, -0.05412921,\n",
       "         0.03100967,  0.00343458, -0.06101255,  1.        ,  0.24718708,\n",
       "         0.00965491,  0.60935105,  0.52201296],\n",
       "       [-0.0751742 , -0.04387779,  0.09591702,  0.36165934, -0.02637667,\n",
       "         0.03044506,  0.15151   ,  0.05649203,  0.01503959,  0.00679635,\n",
       "         0.24456495, -0.02876319,  0.00452302,  0.24718708,  1.        ,\n",
       "        -0.01079735, -0.12014061, -0.14578882],\n",
       "       [-0.00506822, -0.00468196,  0.01187733, -0.00598755, -0.00617953,\n",
       "         0.00708542,  0.00458776,  0.00663131,  0.00751306, -0.00772809,\n",
       "        -0.00539203, -0.00339601, -0.00746152,  0.00965491, -0.01079735,\n",
       "         1.        , -0.01287626, -0.01161457],\n",
       "       [-0.08909532, -0.02413123,  0.62129636, -0.07028962, -0.03281041,\n",
       "         0.03305113, -0.00161904,  0.01836645,  0.03219836, -0.06074735,\n",
       "        -0.05009201, -0.07385205, -0.06169215,  0.60935105, -0.12014061,\n",
       "        -0.01287626,  1.        , -0.10601024],\n",
       "       [ 0.14505405,  0.18237357,  0.55480239, -0.12782413,  0.15608877,\n",
       "        -0.04455382, -0.0918224 , -0.06362438, -0.04456893, -0.00473842,\n",
       "        -0.05558234,  0.10943007, -0.01220922,  0.52201296, -0.14578882,\n",
       "        -0.01161457, -0.10601024,  1.        ]])"
      ]
     },
     "execution_count": 41,
     "metadata": {},
     "output_type": "execute_result"
    }
   ],
   "source": [
    "matrix_array"
   ]
  },
  {
   "cell_type": "markdown",
   "metadata": {},
   "source": [
    "# Rendered EDA Images"
   ]
  },
  {
   "cell_type": "code",
   "execution_count": null,
   "metadata": {},
   "outputs": [],
   "source": [
    "Image(filename=\"EDA_Images/Origin_Airport_Count.png\")"
   ]
  }
 ],
 "metadata": {
  "interpreter": {
   "hash": "d51731bcc918e59fe870880b42af0e0816941fd342f666367ca689b48f3541e8"
  },
  "kernelspec": {
   "display_name": "Python 3.8.8 64-bit ('dse_230_env')",
   "name": "python3"
  },
  "language_info": {
   "codemirror_mode": {
    "name": "ipython",
    "version": 3
   },
   "file_extension": ".py",
   "mimetype": "text/x-python",
   "name": "python",
   "nbconvert_exporter": "python",
   "pygments_lexer": "ipython3",
   "version": "3.8.8"
  },
  "orig_nbformat": 4
 },
 "nbformat": 4,
 "nbformat_minor": 2
}